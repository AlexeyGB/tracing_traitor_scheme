{
 "cells": [
  {
   "cell_type": "markdown",
   "metadata": {
    "collapsed": true
   },
   "source": [
    "# Studying the Initial Parent Property"
   ]
  },
  {
   "cell_type": "code",
   "execution_count": 12,
   "metadata": {
    "collapsed": true
   },
   "outputs": [],
   "source": [
    "import numpy as np\n",
    "import matplotlib.pyplot as plt\n",
    "import my_lib\n",
    "import graph_lib\n",
    "import itertools "
   ]
  },
  {
   "cell_type": "markdown",
   "metadata": {},
   "source": [
    "### Getting codewords from file"
   ]
  },
  {
   "cell_type": "code",
   "execution_count": 13,
   "metadata": {
    "collapsed": false
   },
   "outputs": [
    {
     "name": "stdout",
     "output_type": "stream",
     "text": [
      "[[1 1 1 1 1 0 0 1 0 0 1 0 0 0 0 0 0 0 0 1 0 0 0 0]\n",
      " [0 0 0 0 1 1 0 1 0 1 0 1 0 1 0 0 0 0 0 0 1 1 0 0]\n",
      " [1 1 0 0 0 0 1 0 0 0 0 1 1 0 0 0 1 0 0 0 0 1 0 1]\n",
      " [0 1 0 0 1 1 0 0 1 0 0 0 0 0 0 1 1 1 1 0 0 0 0 0]\n",
      " [0 0 1 0 0 0 1 0 1 1 1 0 1 1 0 0 0 0 1 0 0 0 0 0]\n",
      " [0 0 0 1 0 0 0 0 0 0 0 0 1 0 0 1 0 0 1 1 1 1 1 0]\n",
      " [0 0 0 0 0 0 1 1 0 1 0 0 0 0 1 1 0 1 0 1 0 0 0 1]\n",
      " [1 0 1 0 0 1 0 0 1 0 0 0 0 0 1 0 0 0 0 0 1 0 1 1]\n",
      " [0 0 0 1 0 0 0 0 0 0 1 1 0 1 1 0 1 1 0 0 0 0 1 0]]\n"
     ]
    }
   ],
   "source": [
    "codewords = np.loadtxt(\"clique_of_9_words.txt\", dtype=np.int)\n",
    "print(codewords)"
   ]
  },
  {
   "cell_type": "code",
   "execution_count": 101,
   "metadata": {
    "collapsed": false
   },
   "outputs": [],
   "source": [
    "def check_coalition(codewords, n1, n2):\n",
    "    available_keys = my_lib.bin_or(codewords[n1], codewords[n2])\n",
    "    num_avail_keys = list();\n",
    "    for i in np.arange(0, 24, 1):\n",
    "        if(available_keys[i]==1):\n",
    "            num_avail_keys.append(i);\n",
    "    all_pirate_choices = itertools.combinations(num_avail_keys, 8)\n",
    "    \n",
    "    for pirate_choice in all_pirate_choices:\n",
    "        pirate_codeword = np.ndarray(shape=(24,), dtype=np.int)\n",
    "        for i in np.arange(0, 24, 1):\n",
    "            if(pirate_choice.count(i) == 1):\n",
    "                pirate_codeword[i] = 1\n",
    "            else:\n",
    "                pirate_codeword[i] = 0\n",
    "                \n",
    "        min_distance = 24;\n",
    "        near_codeword_num = [];\n",
    "        \n",
    "        for j in np.arange(0, 9, 1):\n",
    "            if(min_distance > my_lib.hamming_dist(pirate_codeword, codewords[j])):\n",
    "                min_distance = my_lib.hamming_dist(pirate_codeword, codewords[j]);\n",
    "                near_codeword_num = [j];\n",
    "            elif(min_distance == my_lib.hamming_dist(pirate_codeword, codewords[j])):\n",
    "                near_codeword_num.append(j);\n",
    "                \n",
    "        if(len(near_codeword_num) == 1):\n",
    "            if((near_codeword_num[0] != n1) and (near_codeword_num[0] != n2)):\n",
    "                print(\"\\nFAILURE\\nPirates detected incorrectly\");\n",
    "                print(\"Coalition: \", n1, n2, \"\\nCodeword: \", pirate_codeword, \"\\nDetected: \", near_codeword_num);\n",
    "                break;\n",
    "        if(len(near_codeword_num) == 2): \n",
    "            if((near_codeword_num.count(n1) == 0) or (near_codeword_num.count(n2) == 0)):\n",
    "                print(\"\\nFAILURE\\nPirates detected incorrectly\")\n",
    "                print(\"Coalition: \", n1, n2, \"\\nCodeword: \", pirate_codeword, \"\\nDetected: \", near_codeword_num);\n",
    "                break;\n",
    "        if(len(near_codeword_num) > 2): \n",
    "            if((near_codeword_num.count(n1) == 0) or (near_codeword_num.count(n2) == 0)):\n",
    "                print(\"\\nFAILURE\\nPirates detected incorrectly\");\n",
    "                print(\"Coalition: \", n1, n2, \"\\nCodeword: \", pirate_codeword, \"\\nDetected: \", near_codeword_num);\n",
    "                break;\n",
    "    print(\"Coalition \", n1, n2, \"checked: SUCCESS\")"
   ]
  },
  {
   "cell_type": "code",
   "execution_count": 102,
   "metadata": {
    "collapsed": false
   },
   "outputs": [],
   "source": [
    "def check_all_coalitions(codewords):\n",
    "    users = [i for i in np.arange(0,9,1)];\n",
    "    possible_coalitions = itertools.combinations(users, 2)\n",
    "    \n",
    "    for coalition in possible_coalitions:\n",
    "        check_coalition(codewords, coalition[0], coalition[1])        "
   ]
  },
  {
   "cell_type": "code",
   "execution_count": 103,
   "metadata": {
    "collapsed": false
   },
   "outputs": [
    {
     "name": "stdout",
     "output_type": "stream",
     "text": [
      "Coalition  0 1 checked: SUCCESS\n",
      "Coalition  0 2 checked: SUCCESS\n",
      "Coalition  0 3 checked: SUCCESS\n",
      "Coalition  0 4 checked: SUCCESS\n",
      "Coalition  0 5 checked: SUCCESS\n",
      "Coalition  0 6 checked: SUCCESS\n",
      "Coalition  0 7 checked: SUCCESS\n",
      "Coalition  0 8 checked: SUCCESS\n",
      "Coalition  1 2 checked: SUCCESS\n",
      "Coalition  1 3 checked: SUCCESS\n",
      "Coalition  1 4 checked: SUCCESS\n",
      "Coalition  1 5 checked: SUCCESS\n",
      "Coalition  1 6 checked: SUCCESS\n",
      "Coalition  1 7 checked: SUCCESS\n",
      "Coalition  1 8 checked: SUCCESS\n",
      "Coalition  2 3 checked: SUCCESS\n",
      "Coalition  2 4 checked: SUCCESS\n",
      "Coalition  2 5 checked: SUCCESS\n",
      "Coalition  2 6 checked: SUCCESS\n",
      "Coalition  2 7 checked: SUCCESS\n",
      "Coalition  2 8 checked: SUCCESS\n",
      "Coalition  3 4 checked: SUCCESS\n",
      "Coalition  3 5 checked: SUCCESS\n",
      "Coalition  3 6 checked: SUCCESS\n",
      "Coalition  3 7 checked: SUCCESS\n",
      "Coalition  3 8 checked: SUCCESS\n",
      "Coalition  4 5 checked: SUCCESS\n",
      "Coalition  4 6 checked: SUCCESS\n",
      "Coalition  4 7 checked: SUCCESS\n",
      "Coalition  4 8 checked: SUCCESS\n",
      "Coalition  5 6 checked: SUCCESS\n",
      "Coalition  5 7 checked: SUCCESS\n",
      "Coalition  5 8 checked: SUCCESS\n",
      "Coalition  6 7 checked: SUCCESS\n",
      "Coalition  6 8 checked: SUCCESS\n",
      "Coalition  7 8 checked: SUCCESS\n"
     ]
    }
   ],
   "source": [
    "check_all_coalitions(codewords)"
   ]
  },
  {
   "cell_type": "markdown",
   "metadata": {
    "collapsed": true
   },
   "source": [
    "# Yep! This set of codewords have Initial Parent Property!"
   ]
  },
  {
   "cell_type": "code",
   "execution_count": null,
   "metadata": {
    "collapsed": false
   },
   "outputs": [],
   "source": []
  },
  {
   "cell_type": "code",
   "execution_count": null,
   "metadata": {
    "collapsed": true
   },
   "outputs": [],
   "source": []
  }
 ],
 "metadata": {
  "kernelspec": {
   "display_name": "Python 3",
   "language": "python",
   "name": "python3"
  },
  "language_info": {
   "codemirror_mode": {
    "name": "ipython",
    "version": 3
   },
   "file_extension": ".py",
   "mimetype": "text/x-python",
   "name": "python",
   "nbconvert_exporter": "python",
   "pygments_lexer": "ipython3",
   "version": "3.6.0"
  }
 },
 "nbformat": 4,
 "nbformat_minor": 2
}
