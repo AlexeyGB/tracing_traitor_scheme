{
 "cells": [
  {
   "cell_type": "markdown",
   "metadata": {},
   "source": [
    "# Extended Golay code [24,12,8]"
   ]
  },
  {
   "cell_type": "code",
   "execution_count": 200,
   "metadata": {
    "collapsed": false
   },
   "outputs": [],
   "source": [
    "import numpy as np"
   ]
  },
  {
   "cell_type": "code",
   "execution_count": 201,
   "metadata": {
    "collapsed": true
   },
   "outputs": [],
   "source": [
    "def get_G_H_matrixes():\n",
    "    # returns G and H matrixes in a tuple\n",
    "    \n",
    "    A = np.eye(12);\n",
    "    B = np.array([[1, 0, 0, 1, 1, 1, 1, 1, 0, 0, 0, 1],\n",
    "                  [0, 1, 0, 0, 1, 1, 1, 1, 1, 0, 1, 0],\n",
    "                  [0, 0, 1, 0, 0, 1, 1, 1, 1, 1, 0, 1],\n",
    "                  [1, 0, 0, 1, 0, 0, 1, 1, 1, 1, 1, 0],\n",
    "                  [1, 1, 0, 0, 1, 0, 0, 1, 1, 1, 0, 1],\n",
    "                  [1, 1, 1, 0, 0, 1, 0, 0, 1, 1, 1, 0], \n",
    "                  [1, 1, 1, 1, 0, 0, 1, 0, 0, 1, 0, 1],\n",
    "                  [1, 1, 1, 1, 1, 0, 0, 1, 0, 0, 1, 0],\n",
    "                  [0, 1, 1, 1, 1, 1, 0, 0, 1, 0, 0, 1],\n",
    "                  [0, 0, 1, 1, 1, 1, 1, 0, 0, 1, 1, 0],\n",
    "                  [0, 1, 0, 1, 0, 1, 0, 1, 0, 1, 1, 1],\n",
    "                  [1, 0, 1, 0, 1, 0, 1, 0, 1, 0, 1, 1]]);\n",
    "    G = np.concatenate((A, B), axis=1);\n",
    "    H = np.concatenate((B, A), axis=0);\n",
    "    return (G, H);"
   ]
  },
  {
   "cell_type": "code",
   "execution_count": 202,
   "metadata": {
    "collapsed": false
   },
   "outputs": [],
   "source": [
    "(G, H) = get_G_H_matrixes();"
   ]
  },
  {
   "cell_type": "code",
   "execution_count": 203,
   "metadata": {
    "collapsed": true
   },
   "outputs": [],
   "source": [
    "def bin_sum(a, b, n):\n",
    "    # n -- length of numbers\n",
    "    c = a+b;\n",
    "    for i in np.arange(n-1, 0, -1):\n",
    "        if(c[i]==2):\n",
    "            c[i]=0;\n",
    "            c[i-1]+=1;\n",
    "        if(c[i]==3):\n",
    "            c[i]=1;\n",
    "            c[i-1]+=1;\n",
    "    return c;"
   ]
  },
  {
   "cell_type": "code",
   "execution_count": 204,
   "metadata": {
    "collapsed": false
   },
   "outputs": [],
   "source": [
    "def bin_multipl(A, B):\n",
    "    shape_a = A.shape;\n",
    "    shape_b = B.shape;\n",
    "    C = np.ndarray(shape = (shape_a[0], shape_b[1]));\n",
    "    \n",
    "    if(shape_a[1]!=shape_b[0]):\n",
    "        return 0;\n",
    "    \n",
    "    for i in np.arange(0, shape_a[0], 1):\n",
    "        for j in np.arange(0, shape_b[1], 1):\n",
    "            C[i][j] = 0;\n",
    "            for k in np.arange(0, shape_a[1], 1):\n",
    "                C[i][j] += A[i][k]*B[k][j];\n",
    "            C[i][j] = C[i][j] % 2;\n",
    "    return C;"
   ]
  },
  {
   "cell_type": "code",
   "execution_count": 205,
   "metadata": {
    "collapsed": false
   },
   "outputs": [],
   "source": [
    "def get_bin_nums_matrix():\n",
    "    bin_one = np.array([0, 0, 0, 0, 0, 0, 0, 0, 0, 0, 0, 1]);\n",
    "    \n",
    "    B = np.ndarray(shape=(4096, 12));\n",
    "    B[0] = [0, 0, 0, 0, 0, 0, 0, 0, 0, 0, 0, 0];\n",
    "    for i in np.arange(0, 4095, 1):\n",
    "        next = bin_sum(B[i], bin_one, 12);\n",
    "        B[i+1] = next;\n",
    "    return B;"
   ]
  },
  {
   "cell_type": "code",
   "execution_count": 206,
   "metadata": {
    "collapsed": false
   },
   "outputs": [
    {
     "name": "stdout",
     "output_type": "stream",
     "text": [
      "[[ 0.  0.  0. ...,  0.  0.  0.]\n",
      " [ 0.  0.  0. ...,  0.  0.  1.]\n",
      " [ 0.  0.  0. ...,  0.  1.  0.]\n",
      " ..., \n",
      " [ 1.  1.  1. ...,  1.  0.  1.]\n",
      " [ 1.  1.  1. ...,  1.  1.  0.]\n",
      " [ 1.  1.  1. ...,  1.  1.  1.]]\n"
     ]
    }
   ],
   "source": [
    "bin_nums = get_bin_nums_matrix();\n",
    "print(bin_nums);"
   ]
  },
  {
   "cell_type": "code",
   "execution_count": 207,
   "metadata": {
    "collapsed": false
   },
   "outputs": [],
   "source": [
    "def get_codewords(Din, G):\n",
    "    Code_words = np.ndarray(shape = (bin_nums_matrix.shape[0], 24));\n",
    "    Code_words = bin_multipl(Din, G);\n",
    "    return Code_words;"
   ]
  },
  {
   "cell_type": "code",
   "execution_count": 208,
   "metadata": {
    "collapsed": false
   },
   "outputs": [
    {
     "name": "stdout",
     "output_type": "stream",
     "text": [
      "[[ 0.  0.  0. ...,  0.  0.  0.]\n",
      " [ 0.  0.  0. ...,  0.  1.  1.]\n",
      " [ 0.  0.  0. ...,  1.  1.  1.]\n",
      " ..., \n",
      " [ 1.  1.  1. ...,  0.  0.  0.]\n",
      " [ 1.  1.  1. ...,  1.  0.  0.]\n",
      " [ 1.  1.  1. ...,  1.  1.  1.]]\n"
     ]
    }
   ],
   "source": [
    "all_code_words = get_codewords(bin_nums, Mcr);\n",
    "print(all_code_words);"
   ]
  },
  {
   "cell_type": "code",
   "execution_count": 209,
   "metadata": {
    "collapsed": false
   },
   "outputs": [
    {
     "name": "stdout",
     "output_type": "stream",
     "text": [
      "[0 0 0 0 0 0 0 0 0 0 0 0 0 0 0 0 0 0 0 0 0 0 0 0 0]\n",
      "[  0.   8.   8. ...,  16.  16.  24.]\n"
     ]
    }
   ],
   "source": [
    "# calculates a statistic on words with the same weights\n",
    "\n",
    "import matplotlib.pyplot as plt\n",
    "\n",
    "weight = np.zeros(4096)\n",
    "hst = np.zeros(25, dtype=np.int)\n",
    "print (hst)\n",
    "#arr = np.array([1, 2, 3, 4, 5, 6, 7, 8, 9, 10, 11, 12])\n",
    "for i in range(0, 4096):\n",
    "    for j in range(0, 24):\n",
    "        if all_code_words[i][j] == 1:\n",
    "            weight[i] += 1\n",
    "print (weight)\n",
    "\n",
    "for i in range(0, 4096):\n",
    "    for j in range (0, 25):\n",
    "        if weight[i] == j:\n",
    "            hst[j] += 1\n",
    "\n",
    "#plt.hist(weight)\n",
    "#plt.show(weight)"
   ]
  },
  {
   "cell_type": "code",
   "execution_count": 210,
   "metadata": {
    "collapsed": false
   },
   "outputs": [
    {
     "name": "stdout",
     "output_type": "stream",
     "text": [
      "[   1    0    0    0    0    0    0    0  759    0    0    0 2576    0    0\n",
      "    0  759    0    0    0    0    0    0    0    1]\n"
     ]
    }
   ],
   "source": [
    "print (hst)"
   ]
  },
  {
   "cell_type": "code",
   "execution_count": 211,
   "metadata": {
    "collapsed": false
   },
   "outputs": [
    {
     "name": "stdout",
     "output_type": "stream",
     "text": [
      "[  0.   8.   8. ...,  16.  16.  24.]\n"
     ]
    }
   ],
   "source": [
    "print(weight);            "
   ]
  }
 ],
 "metadata": {
  "kernelspec": {
   "display_name": "Python 3",
   "language": "python",
   "name": "python3"
  },
  "language_info": {
   "codemirror_mode": {
    "name": "ipython",
    "version": 3
   },
   "file_extension": ".py",
   "mimetype": "text/x-python",
   "name": "python",
   "nbconvert_exporter": "python",
   "pygments_lexer": "ipython3",
   "version": "3.6.0"
  }
 },
 "nbformat": 4,
 "nbformat_minor": 2
}
