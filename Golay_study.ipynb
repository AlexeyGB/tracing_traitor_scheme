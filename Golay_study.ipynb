{
 "cells": [
  {
   "cell_type": "markdown",
   "metadata": {},
   "source": [
    "# Extended Golay code [24,12,8]"
   ]
  },
  {
   "cell_type": "code",
   "execution_count": 145,
   "metadata": {
    "collapsed": false
   },
   "outputs": [],
   "source": [
    "'''\n",
    "Simple class for working with unweighted undirected graphs\n",
    "@author: Oleksii Kuchaiev; http://www.kuchaev.com\n",
    "'''\n",
    "import random\n",
    "class graph(object):\n",
    "    '''\n",
    "    A class for representing and manipulation undirected, unweighted simple graphs without self-loops\n",
    "    '''\n",
    "    def __init__(self, userID=None):\n",
    "        '''\n",
    "        Constructor\n",
    "        '''\n",
    "        if userID==None:\n",
    "            self.Id=random.randint(0,10000000)\n",
    "        else:\n",
    "            self.Id=userID\n",
    "        self.Nodes=set() #set of nodes\n",
    "        self.AdjList=dict() #Adjacency list\n",
    "    def add_node(self,node):\n",
    "        '''\n",
    "        Adds node to the graph.\n",
    "        '''\n",
    "        if node in self.Nodes:\n",
    "            raise Exception(\"Node \"+node+\" is already present in the graph.\")\n",
    "        else:\n",
    "            self.Nodes.add(node)\n",
    "            self.AdjList[node]=set()\n",
    "    def add_edge(self,nd1,nd2):\n",
    "        '''\n",
    "        Adds edge (nd1,nd2) to the graph.\n",
    "        '''\n",
    "        if nd1 not in self.Nodes:\n",
    "            raise Exception(\"Node \"+nd1+\" is not present in the graph.\")\n",
    "        if nd2 not in self.Nodes:\n",
    "            raise Exception(\"Node \"+nd2+\" is not present in the graph.\")\n",
    "        if nd1 not in self.AdjList.keys():\n",
    "            self.AdjList[nd1]=set()\n",
    "            self.AdjList[nd1].add(nd2)\n",
    "        else:\n",
    "            self.AdjList[nd1].add(nd2)\n",
    "        if nd2 not in self.AdjList.keys():\n",
    "            self.AdjList[nd2]=set()\n",
    "            self.AdjList[nd2].add(nd1)\n",
    "        else:\n",
    "            self.AdjList[nd2].add(nd1)                \n",
    "    def readFromEdgeList(self,path):\n",
    "        '''\n",
    "        Read graph from the file where it is represented as an edge list.\n",
    "        The lines of the file should be formated as:\n",
    "        node1[space]node2[newline] \n",
    "        Duplicate edges and self loops are ignored.\n",
    "        '''\n",
    "        inp_file=open(path,'r')\n",
    "        _Nodes=set() # this will replace self.Nodes in case of success\n",
    "        _AdjList=dict() # this will replace self.AdjList in case of success        \n",
    "        for line in inp_file:\n",
    "            nodes=line.split()\n",
    "            if len(nodes)<2:\n",
    "                raise Exception(\"There is an incorrectly formatted line in the edge list file\")\n",
    "            nd1=nodes[0]\n",
    "            nd2=nodes[1]\n",
    "            if nd1==nd2:\n",
    "                continue\n",
    "            if (nd1 in _Nodes):\n",
    "                if (nd2 not in _AdjList[nd1]):\n",
    "                    _AdjList[nd1].add(nd2)\n",
    "            else:\n",
    "                _Nodes.add(nd1)\n",
    "                _AdjList[nd1]=set()\n",
    "                _AdjList[nd1].add(nd2)\n",
    "            if (nd2 in _Nodes):\n",
    "                if (nd1 not in _AdjList[nd2]):\n",
    "                    _AdjList[nd2].add(nd1)\n",
    "            else:\n",
    "                _Nodes.add(nd2)\n",
    "                _AdjList[nd2]=set()\n",
    "                _AdjList[nd2].add(nd1)\n",
    "        inp_file.close()\n",
    "        self.Nodes.clear()\n",
    "        self.AdjList.clear()\n",
    "        self.Nodes=_Nodes\n",
    "        self.AdjList=_AdjList\n",
    "    def get_edge_set(self):\n",
    "        '''\n",
    "        Returns set of edges in the graph.        \n",
    "        '''\n",
    "        Edges=set()\n",
    "        for nd1 in self.Nodes:\n",
    "            N=self.get_node_neighbors(nd1)\n",
    "            for nd2 in N:\n",
    "                if (nd2,nd1) not in Edges:\n",
    "                    Edges.add((nd1,nd2))\n",
    "        return Edges\n",
    "    def saveAsEdgeList(self,path):\n",
    "        '''\n",
    "        Saves graph as edge list\n",
    "        '''\n",
    "        out=open(path,'w')\n",
    "        EdgeList=self.get_edge_set()\n",
    "        for edge in EdgeList:\n",
    "            line = edge[0]+\" \"+edge[1]+\"\\n\"\n",
    "            out.write(line)\n",
    "        out.close()             \n",
    "    def number_of_nodes(self):\n",
    "        '''\n",
    "        Returns number of nodes in the graph.\n",
    "        '''\n",
    "        return len(self.Nodes)\n",
    "    def number_of_edges(self):\n",
    "        '''\n",
    "        Returns number of edges in the graph.\n",
    "        '''\n",
    "        num_edg=0.0;\n",
    "        for key in self.AdjList.keys():\n",
    "            num_edg=num_edg+(float(len(self.AdjList[key]))/2)\n",
    "        return int(num_edg)    \n",
    "    def degree(self,node):\n",
    "        '''\n",
    "        Returns the degree of a node \n",
    "        '''\n",
    "        if node not in self.Nodes:\n",
    "            raise Exception(\"There is no node with name: \"+str(node)+\" in this graph. The id of the graph is: \"+str(self.Id))\n",
    "        return len(self.AdjList[node])\n",
    "    def get_node_clust_coef(self,node):\n",
    "        '''\n",
    "        Returns the clustering coefficient of the node\n",
    "        '''\n",
    "        deg=self.degree(node)\n",
    "        if deg<=1:\n",
    "            return 0\n",
    "        Ev=0\n",
    "        neighbors=self.get_node_neighbors(node)\n",
    "        for nd in neighbors:\n",
    "            if self.are_adjacent(node, nd):\n",
    "                Ev+=1\n",
    "        cc=float(2*Ev)/(deg*(deg-1))\n",
    "        return cc        \n",
    "    def get_node_eccentricity(self,node):\n",
    "        '''\n",
    "        Returns the eccentricity of the node.\n",
    "        Note that this function returns the eccentricity of a node within its\n",
    "        connected component\n",
    "        '''\n",
    "        D=self.BFS(node)\n",
    "        ec=0\n",
    "        for key, value in D:\n",
    "            if value>ec:\n",
    "                ec=value\n",
    "        return ec\n",
    "    def get_node_eccentricity_avg(self,node):\n",
    "        '''\n",
    "        Returns the averaged eccentricity of the node. That is, \"avg\", not \"max\" distance\n",
    "        Note that this function returns the eccentricity of a node within its\n",
    "        connected component\n",
    "        '''        \n",
    "        D=self.BFS(node)\n",
    "        ec=0.0\n",
    "        counter=0.0\n",
    "        for key, value in D.items():\n",
    "            if value>0:\n",
    "                ec+=value\n",
    "                counter+=1\n",
    "        if counter>0:\n",
    "            return ec/counter\n",
    "        else:\n",
    "            return 0\n",
    "    def get_node_eccentricities_both(self,node):\n",
    "        '''\n",
    "        This function is for performance purposes.\n",
    "        This is function returns standard and averaged eccentricities of the node.\n",
    "        Note that both eccentricities of the node are within its connected component\n",
    "        '''\n",
    "        D=self.BFS(node)\n",
    "        ec=0\n",
    "        ecA=0.0\n",
    "        counter=0.0\n",
    "        for key, value in D.items():\n",
    "            if value>0:\n",
    "                ecA+=value\n",
    "                counter+=1\n",
    "                if value>ec:\n",
    "                    ec=value\n",
    "        if counter>0:\n",
    "            return (ec,ecA/counter)\n",
    "        else:\n",
    "            return (ec,0)\n",
    "    def are_adjacent(self,nd1,nd2):\n",
    "        '''\n",
    "        Checks if nd1 and nd2 are connected\n",
    "        '''\n",
    "        if nd1 not in self.Nodes:\n",
    "            raise Exception(\"Node \"+str(nd1)+\" is not in the graph with id=\"+str(self.Id))    \n",
    "        if nd2 not in self.Nodes:\n",
    "            raise Exception(\"Node \"+str(nd2)+\" is not in the graph with id=\"+str(self.Id))\n",
    "        if nd2 in self.AdjList[nd1]:\n",
    "            return True\n",
    "        else:\n",
    "            return False\n",
    "    def get_node_neighbors(self,nd):\n",
    "        '''\n",
    "        Returns set of node neighbors\n",
    "        '''\n",
    "        #if nd not in self.Nodes:\n",
    "           # raise Exception(\"Node \"+str(nd)+\" is not in the graph with id=\"+str(self.Id))\n",
    "        return self.AdjList[nd]\n",
    "    def BFS(self,source):\n",
    "        '''\n",
    "        Implements Breadth-first search from node 'source' in graph 'self'.\n",
    "        Returns dictionary D {node: distance from source}\n",
    "        distance=-1 if 'node' is unreachable from 'source'        \n",
    "        '''\n",
    "        #if source not in self.Nodes:\n",
    "         #   raise Exception(\"Node \"+str(source)+\" is not in the graph with id=\"+str(self.Id))        \n",
    "        D=dict();\n",
    "        for node in self.Nodes:\n",
    "            D[node]=-1\n",
    "        level=0;\n",
    "        Que0=set()\n",
    "        Que0.add(source)\n",
    "        Que1=set()\n",
    "        while len(Que0)!=0:\n",
    "            while len(Que0)!=0:\n",
    "                cur_node=Que0.pop()\n",
    "                D[cur_node]=level\n",
    "                N=self.AdjList[cur_node]\n",
    "                for nd in N:\n",
    "                    if D[nd]==-1:\n",
    "                        Que1.add(nd)                        \n",
    "            level=level+1\n",
    "            Que0=Que1\n",
    "            Que1=set()\n",
    "        return D\n",
    "    def dist(self,nd1,nd2):\n",
    "        '''\n",
    "        Returns shortest-path distance between nd1 and nd2\n",
    "        '''\n",
    "        if nd1 not in self.Nodes:\n",
    "            raise Exception(\"Node \"+str(nd1)+\" is not in the graph with id=\"+str(self.Id))\n",
    "        if nd2 not in self.Nodes:\n",
    "            raise Exception(\"Node \"+str(nd2)+\" is not in the graph with id=\"+str(self.Id))\n",
    "        D=dict();\n",
    "        for node in self.Nodes:\n",
    "            D[node]=-1\n",
    "        level=0;\n",
    "        Que0=set()\n",
    "        Que0.add(nd1)\n",
    "        Que1=set()\n",
    "        while len(Que0)!=0:\n",
    "            while len(Que0)!=0:\n",
    "                cur_node=Que0.pop()\n",
    "                D[cur_node]=level\n",
    "                if cur_node==nd2:\n",
    "                    return level\n",
    "                N=self.get_node_neighbors(cur_node)\n",
    "                for nd in N:\n",
    "                    if D[nd]==-1:\n",
    "                        Que1.add(nd)\n",
    "            level=level+1;\n",
    "            Que0=Que1;\n",
    "            Que1=set()\n",
    "        return -1        \n",
    "    def all_pairs_dist(self):\n",
    "        '''\n",
    "        Returns dictionary of all-pairs shortest paths in 'self'\n",
    "        The dictionary has format {t=(nd1,nd2): distance},\n",
    "        where t is a tuple.                \n",
    "        '''\n",
    "        Distances=dict()\n",
    "        count=0\n",
    "        for nd in self.Nodes:\n",
    "            DD1=self.BFS(nd)\n",
    "            for key, value in DD1.items():\n",
    "                t1=nd, key\n",
    "                t2=key, nd\n",
    "                Distances[t1]=float(value)\n",
    "                Distances[t2]=float(value)\n",
    "        return Distances\n",
    "    def find_all_cliques(self):\n",
    "        '''\n",
    "        Implements Bron-Kerbosch algorithm, Version 2\n",
    "        '''\n",
    "        Cliques=[]\n",
    "        Stack=[]\n",
    "        nd=None\n",
    "        disc_num=len(self.Nodes)\n",
    "        search_node=(set(),set(self.Nodes),set(),nd,disc_num) \n",
    "        Stack.append(search_node)\n",
    "        while len(Stack)!=0:\n",
    "            (c_compsub,c_candidates,c_not,c_nd,c_disc_num)=Stack.pop()\n",
    "            if len(c_candidates)==0 and len(c_not)==0:\n",
    "                if len(c_compsub)>2:\n",
    "                    Cliques.append(c_compsub)\n",
    "                    continue\n",
    "            for u in list(c_candidates):\n",
    "                if (c_nd==None) or (not self.are_adjacent(u, c_nd)):\n",
    "                    c_candidates.remove(u)\n",
    "                    Nu=self.get_node_neighbors(u)                                \n",
    "                    new_compsub=set(c_compsub)\n",
    "                    new_compsub.add(u)\n",
    "                    new_candidates=set(c_candidates.intersection(Nu))\n",
    "                    new_not=set(c_not.intersection(Nu))                    \n",
    "                    if c_nd!=None:\n",
    "                        if c_nd in new_not:\n",
    "                            new_disc_num=c_disc_num-1\n",
    "                            if new_disc_num>0:\n",
    "                                new_search_node=(new_compsub,new_candidates,new_not,c_nd,new_disc_num)                        \n",
    "                                Stack.append(new_search_node)\n",
    "                        else:\n",
    "                            new_disc_num=len(self.Nodes)\n",
    "                            new_nd=c_nd\n",
    "                            for cand_nd in new_not:\n",
    "                                cand_disc_num=len(new_candidates)-len(new_candidates.intersection(self.get_node_neighbors(cand_nd))) \n",
    "                                if cand_disc_num<new_disc_num:\n",
    "                                    new_disc_num=cand_disc_num\n",
    "                                    new_nd=cand_nd\n",
    "                            new_search_node=(new_compsub,new_candidates,new_not,new_nd,new_disc_num)                        \n",
    "                            Stack.append(new_search_node)                \n",
    "                    else:\n",
    "                        new_search_node=(new_compsub,new_candidates,new_not,c_nd,c_disc_num)\n",
    "                        Stack.append(new_search_node)\n",
    "                    c_not.add(u) \n",
    "                    new_disc_num=0\n",
    "                    for x in c_candidates:\n",
    "                        if not self.are_adjacent(x, u):\n",
    "                            new_disc_num+=1\n",
    "                    if new_disc_num<c_disc_num and new_disc_num>0:\n",
    "                        new1_search_node=(c_compsub,c_candidates,c_not,u,new_disc_num)\n",
    "                        Stack.append(new1_search_node)\n",
    "                    else:\n",
    "                        new1_search_node=(c_compsub,c_candidates,c_not,c_nd,c_disc_num)\n",
    "                        Stack.append(new1_search_node)     \n",
    "        return Cliques\n",
    "    def create_empty_graph(self,n):\n",
    "        '''\n",
    "        creates graph with n nodes but without edges\n",
    "        '''\n",
    "        G=graph()\n",
    "        for i in range(1,n+1):\n",
    "            nd=str(i)\n",
    "            G.add_node(nd)\n",
    "        return G  \n",
    "    def create_path_graph(self,n):\n",
    "        '''\n",
    "        Create path-graph on n nodes\n",
    "        '''\n",
    "        if n<2:\n",
    "            raise Exception(\"Can't create a path graph with less than 2 nodes.\")\n",
    "        G=self.create_empty_graph(n)\n",
    "        for i in range(1,n):\n",
    "            nd1=str(i)\n",
    "            nd2=str(i+1)\n",
    "            G.add_edge(nd1, nd2)\n",
    "        return G         \n",
    "    def create_cycle_graph(self,n):\n",
    "        '''\n",
    "        Creates graph-cycle on n nodes.\n",
    "        Nodes are numbered from 1 to n.\n",
    "        '''\n",
    "        if n<3:\n",
    "            raise Exception(\"Can't create a cycle with less than 3 nodes.\") \n",
    "        G=self.create_path_graph(n)\n",
    "        G.add_edge(str(1), str(n))\n",
    "        return G\n",
    "    def create_circulant_graph(self,n,j):\n",
    "        '''\n",
    "        Creates a circulant graph with n nodes and m edges.\n",
    "        Nodes are numbered from 1 to n.\n",
    "        The chords are defined by parameters j.\n",
    "        That is node i is connected to (i-j) mod n and (i+j) mod n.\n",
    "        Note that not always the exact match in terms of edges is possible!\n",
    "        Check the output graph for the number of edges!\n",
    "        '''\n",
    "        G=self.create_cycle_graph(n) # node numbers starts from 1         \n",
    "        for i in range(0,n):\n",
    "            ndi=str(i % n + 1)\n",
    "            nd2 = str(( i - j ) % n + 1)\n",
    "            nd3 = str(( i + j ) % n + 1)\n",
    "            G.add_edge(ndi, nd2)\n",
    "            G.add_edge(ndi, nd3)                         \n",
    "        return G    \n",
    "    def create_complete_graph(self,n):\n",
    "        '''\n",
    "        creates complete graph on n nodes\n",
    "        '''\n",
    "        G=self.create_empty_graph(n)\n",
    "        L=list(G.Nodes)\n",
    "        for i in range(0,len(L)):\n",
    "            for j in range(i+1,len(L)):\n",
    "                G.add_edge(L[i], L[j])\n",
    "        return G "
   ]
  },
  {
   "cell_type": "code",
   "execution_count": 146,
   "metadata": {
    "collapsed": false
   },
   "outputs": [],
   "source": [
    "import numpy as np"
   ]
  },
  {
   "cell_type": "code",
   "execution_count": 147,
   "metadata": {
    "collapsed": true
   },
   "outputs": [],
   "source": [
    "def get_G_H_matrixes():\n",
    "    # returns G and H matrixes in a tuple\n",
    "    \n",
    "    A = np.eye(12);\n",
    "    B = np.array([[1, 0, 0, 1, 1, 1, 1, 1, 0, 0, 0, 1],\n",
    "                  [0, 1, 0, 0, 1, 1, 1, 1, 1, 0, 1, 0],\n",
    "                  [0, 0, 1, 0, 0, 1, 1, 1, 1, 1, 0, 1],\n",
    "                  [1, 0, 0, 1, 0, 0, 1, 1, 1, 1, 1, 0],\n",
    "                  [1, 1, 0, 0, 1, 0, 0, 1, 1, 1, 0, 1],\n",
    "                  [1, 1, 1, 0, 0, 1, 0, 0, 1, 1, 1, 0], \n",
    "                  [1, 1, 1, 1, 0, 0, 1, 0, 0, 1, 0, 1],\n",
    "                  [1, 1, 1, 1, 1, 0, 0, 1, 0, 0, 1, 0],\n",
    "                  [0, 1, 1, 1, 1, 1, 0, 0, 1, 0, 0, 1],\n",
    "                  [0, 0, 1, 1, 1, 1, 1, 0, 0, 1, 1, 0],\n",
    "                  [0, 1, 0, 1, 0, 1, 0, 1, 0, 1, 1, 1],\n",
    "                  [1, 0, 1, 0, 1, 0, 1, 0, 1, 0, 1, 1]]);\n",
    "    G = np.concatenate((A, B), axis=1);\n",
    "    H = np.concatenate((B, A), axis=0);\n",
    "    return (G, H);"
   ]
  },
  {
   "cell_type": "code",
   "execution_count": 148,
   "metadata": {
    "collapsed": false
   },
   "outputs": [],
   "source": [
    "(G, H) = get_G_H_matrixes();"
   ]
  },
  {
   "cell_type": "code",
   "execution_count": 149,
   "metadata": {
    "collapsed": true
   },
   "outputs": [],
   "source": [
    "def bin_sum(a, b):\n",
    "    n = max(a.shape[0], b.shape[0]);\n",
    "    c = a+b;\n",
    "    for i in np.arange(n-1, 0, -1):\n",
    "        if(c[i]==2):\n",
    "            c[i]=0;\n",
    "            c[i-1]+=1;\n",
    "        if(c[i]==3):\n",
    "            c[i]=1;\n",
    "            c[i-1]+=1;\n",
    "    return c;"
   ]
  },
  {
   "cell_type": "code",
   "execution_count": 150,
   "metadata": {
    "collapsed": false
   },
   "outputs": [],
   "source": [
    "def bin_multipl(A, B):\n",
    "    shape_a = A.shape;\n",
    "    shape_b = B.shape;\n",
    "    C = np.ndarray(shape = (shape_a[0], shape_b[1]));\n",
    "    \n",
    "    if(shape_a[1]!=shape_b[0]):\n",
    "        return 0;\n",
    "    \n",
    "    for i in np.arange(0, shape_a[0], 1):\n",
    "        for j in np.arange(0, shape_b[1], 1):\n",
    "            C[i][j] = 0;\n",
    "            for k in np.arange(0, shape_a[1], 1):\n",
    "                C[i][j] += A[i][k]*B[k][j];\n",
    "            C[i][j] = C[i][j] % 2;\n",
    "    return C;"
   ]
  },
  {
   "cell_type": "code",
   "execution_count": 151,
   "metadata": {
    "collapsed": false
   },
   "outputs": [],
   "source": [
    "def bin_weight(a):\n",
    "    weight = 0;\n",
    "    for i in np.arange(0, a.shape[0], 1):\n",
    "        if (a[i] == 1):\n",
    "              weight += 1;\n",
    "    return weight;"
   ]
  },
  {
   "cell_type": "code",
   "execution_count": 152,
   "metadata": {
    "collapsed": false
   },
   "outputs": [],
   "source": [
    "def hamming_dist(a, b):\n",
    "    dist = 0;\n",
    "    for i in np.arange(0, a.shape[0], 1):\n",
    "        if(a[i] != b[i]):\n",
    "            dist += 1;\n",
    "    return dist;"
   ]
  },
  {
   "cell_type": "code",
   "execution_count": 153,
   "metadata": {
    "collapsed": false
   },
   "outputs": [],
   "source": [
    "def get_bin_nums_matrix():\n",
    "    bin_one = np.array([0, 0, 0, 0, 0, 0, 0, 0, 0, 0, 0, 1]);\n",
    "    \n",
    "    B = np.ndarray(shape=(4096, 12));\n",
    "    B[0] = [0, 0, 0, 0, 0, 0, 0, 0, 0, 0, 0, 0];\n",
    "    for i in np.arange(0, 4095, 1):\n",
    "        next = bin_sum(B[i], bin_one);\n",
    "        B[i+1] = next;\n",
    "    return B;"
   ]
  },
  {
   "cell_type": "code",
   "execution_count": 154,
   "metadata": {
    "collapsed": false
   },
   "outputs": [
    {
     "name": "stdout",
     "output_type": "stream",
     "text": [
      "(12,)\n"
     ]
    }
   ],
   "source": [
    "B = np.ndarray(shape=(4096, 12));\n",
    "b = B[1]\n",
    "print(b.shape);"
   ]
  },
  {
   "cell_type": "code",
   "execution_count": 155,
   "metadata": {
    "collapsed": false
   },
   "outputs": [
    {
     "name": "stdout",
     "output_type": "stream",
     "text": [
      "[[ 0.  0.  0. ...,  0.  0.  0.]\n",
      " [ 0.  0.  0. ...,  0.  0.  1.]\n",
      " [ 0.  0.  0. ...,  0.  1.  0.]\n",
      " ..., \n",
      " [ 1.  1.  1. ...,  1.  0.  1.]\n",
      " [ 1.  1.  1. ...,  1.  1.  0.]\n",
      " [ 1.  1.  1. ...,  1.  1.  1.]]\n"
     ]
    }
   ],
   "source": [
    "bin_nums = get_bin_nums_matrix();\n",
    "print(bin_nums);"
   ]
  },
  {
   "cell_type": "code",
   "execution_count": 156,
   "metadata": {
    "collapsed": false
   },
   "outputs": [],
   "source": [
    "def get_codewords(Din, G):\n",
    "    Code_words = np.ndarray(shape = (Din.shape[0], 24));\n",
    "    Code_words = bin_multipl(Din, G);\n",
    "    return Code_words;"
   ]
  },
  {
   "cell_type": "code",
   "execution_count": 157,
   "metadata": {
    "collapsed": false
   },
   "outputs": [
    {
     "name": "stdout",
     "output_type": "stream",
     "text": [
      "[[ 0.  0.  0. ...,  0.  0.  0.]\n",
      " [ 0.  0.  0. ...,  0.  1.  1.]\n",
      " [ 0.  0.  0. ...,  1.  1.  1.]\n",
      " ..., \n",
      " [ 1.  1.  1. ...,  0.  0.  0.]\n",
      " [ 1.  1.  1. ...,  1.  0.  0.]\n",
      " [ 1.  1.  1. ...,  1.  1.  1.]]\n"
     ]
    }
   ],
   "source": [
    "all_code_words = get_codewords(bin_nums, G);\n",
    "print(all_code_words);"
   ]
  },
  {
   "cell_type": "code",
   "execution_count": 158,
   "metadata": {
    "collapsed": false
   },
   "outputs": [
    {
     "name": "stdout",
     "output_type": "stream",
     "text": [
      "[0 0 0 0 0 0 0 0 0 0 0 0 0 0 0 0 0 0 0 0 0 0 0 0 0]\n",
      "[  0.   8.   8. ...,  16.  16.  24.]\n"
     ]
    }
   ],
   "source": [
    "# calculates a statistic on words with the same weights\n",
    "\n",
    "import matplotlib.pyplot as plt\n",
    "\n",
    "weight = np.zeros(4096)\n",
    "hst = np.zeros(25, dtype=np.int)\n",
    "print (hst)\n",
    "#arr = np.array([1, 2, 3, 4, 5, 6, 7, 8, 9, 10, 11, 12])\n",
    "for i in range(0, 4096):\n",
    "    weight[i] = bin_weight(all_code_words[i]);\n",
    "print (weight)\n",
    "\n",
    "for i in range(0, 4096):\n",
    "    for j in range (0, 25):\n",
    "        if weight[i] == j:\n",
    "            hst[j] += 1\n",
    "\n",
    "#plt.hist(weight)\n",
    "#plt.show(weight)"
   ]
  },
  {
   "cell_type": "code",
   "execution_count": 159,
   "metadata": {
    "collapsed": false
   },
   "outputs": [
    {
     "name": "stdout",
     "output_type": "stream",
     "text": [
      "[   1    0    0    0    0    0    0    0  759    0    0    0 2576    0    0\n",
      "    0  759    0    0    0    0    0    0    0    1]\n"
     ]
    }
   ],
   "source": [
    "print (hst)"
   ]
  },
  {
   "cell_type": "code",
   "execution_count": 160,
   "metadata": {
    "collapsed": false
   },
   "outputs": [
    {
     "name": "stdout",
     "output_type": "stream",
     "text": [
      "[  0.   8.   8. ...,  16.  16.  24.]\n"
     ]
    }
   ],
   "source": [
    "print(weight);            "
   ]
  },
  {
   "cell_type": "code",
   "execution_count": 161,
   "metadata": {
    "collapsed": true
   },
   "outputs": [],
   "source": [
    "def get_words_of_weight_eight(code_words):\n",
    "    codewords_w_eight = np.ndarray(shape=(759,24));\n",
    "    j = 0;\n",
    "    for i in np.arange(0, code_words.shape[0], 1):\n",
    "        if(bin_weight(code_words[i]) == 8):\n",
    "            codewords_w_eight[j] = code_words[i];\n",
    "            j += 1;\n",
    "    return codewords_w_eight;"
   ]
  },
  {
   "cell_type": "code",
   "execution_count": 162,
   "metadata": {
    "collapsed": false
   },
   "outputs": [
    {
     "name": "stdout",
     "output_type": "stream",
     "text": [
      "[[ 0.  0.  0. ...,  0.  1.  1.]\n",
      " [ 0.  0.  0. ...,  1.  1.  1.]\n",
      " [ 0.  0.  0. ...,  1.  1.  0.]\n",
      " ..., \n",
      " [ 1.  1.  1. ...,  0.  0.  0.]\n",
      " [ 1.  1.  1. ...,  1.  1.  0.]\n",
      " [ 1.  1.  1. ...,  0.  0.  0.]]\n"
     ]
    }
   ],
   "source": [
    "codewords_w_eight = get_words_of_weight_eight(all_code_words);\n",
    "print(codewords_w_eight);"
   ]
  },
  {
   "cell_type": "code",
   "execution_count": 163,
   "metadata": {
    "collapsed": false
   },
   "outputs": [],
   "source": [
    "# cardinalities of sets of eight-weight codewords with distance at least 12 \n",
    "# [i] value means set begins from [i] codeword and further\n",
    "\n",
    "cardinalities_sets_of_w_eight = np.ones((759,), dtype=np.int);\n",
    "for i in np.arange(0, codewords_w_eight.shape[0], 1):\n",
    "    for j in np.arange(0, codewords_w_eight.shape[0], 1):\n",
    "        if(hamming_dist(codewords_w_eight[i], codewords_w_eight[j]) == 12):\n",
    "            cardinalities_sets_of_w_eight[i] += 1;\n",
    "\n",
    "#print(cardinalities_sets_of_w_eight);"
   ]
  },
  {
   "cell_type": "code",
   "execution_count": 176,
   "metadata": {
    "collapsed": false
   },
   "outputs": [],
   "source": [
    "file = open(\"edge_list_1.txt\", \"w\");\n",
    "\n",
    "for i in np.arange(0, codewords_w_eight.shape[0]-1, 1):\n",
    "    for j in np.arange(i+1, codewords_w_eight.shape[0], 1):\n",
    "        if(hamming_dist(codewords_w_eight[i], codewords_w_eight[j]) >= 12):\n",
    "            line = str(i)+\" \"+str(j)+\"\\n\";\n",
    "            file.write(line);\n",
    "file.close();"
   ]
  },
  {
   "cell_type": "markdown",
   "metadata": {
    "collapsed": true
   },
   "source": [
    "### Поиск кликов в графе из кодовых слов длины 8, чтобы в клике мин. расстояние м/у было >=12"
   ]
  },
  {
   "cell_type": "code",
   "execution_count": 178,
   "metadata": {
    "collapsed": false
   },
   "outputs": [],
   "source": [
    "Big_graph = graph()\n",
    "Big_graph.readFromEdgeList(\"edge_list_1.txt\");"
   ]
  },
  {
   "cell_type": "code",
   "execution_count": null,
   "metadata": {
    "collapsed": false
   },
   "outputs": [],
   "source": [
    "Cliques = Big_graph.find_all_cliques();"
   ]
  },
  {
   "cell_type": "code",
   "execution_count": null,
   "metadata": {
    "collapsed": true
   },
   "outputs": [],
   "source": []
  }
 ],
 "metadata": {
  "kernelspec": {
   "display_name": "Python 3",
   "language": "python",
   "name": "python3"
  },
  "language_info": {
   "codemirror_mode": {
    "name": "ipython",
    "version": 3
   },
   "file_extension": ".py",
   "mimetype": "text/x-python",
   "name": "python",
   "nbconvert_exporter": "python",
   "pygments_lexer": "ipython3",
   "version": "3.6.0"
  }
 },
 "nbformat": 4,
 "nbformat_minor": 2
}
