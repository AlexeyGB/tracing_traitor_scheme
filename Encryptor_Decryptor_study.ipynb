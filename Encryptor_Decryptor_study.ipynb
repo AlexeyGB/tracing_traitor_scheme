{
 "cells": [
  {
   "cell_type": "code",
   "execution_count": 91,
   "metadata": {
    "collapsed": false
   },
   "outputs": [],
   "source": [
    "import numpy as np\n",
    "import my_lib \n",
    "import graph_lib\n",
    "from Crypto.Cipher import AES\n",
    "from Crypto.Random import get_random_bytes\n",
    "from Crypto.Protocol.SecretSharing import Shamir\n",
    "from binascii import hexlify"
   ]
  },
  {
   "cell_type": "code",
   "execution_count": 120,
   "metadata": {
    "collapsed": false
   },
   "outputs": [
    {
     "name": "stdout",
     "output_type": "stream",
     "text": [
      "[[1 1 1 1 1 0 0 1 0 0 1 0 0 0 0 0 0 0 0 1 0 0 0 0]\n",
      " [0 0 0 0 1 1 0 1 0 1 0 1 0 1 0 0 0 0 0 0 1 1 0 0]\n",
      " [1 1 0 0 0 0 1 0 0 0 0 1 1 0 0 0 1 0 0 0 0 1 0 1]\n",
      " [0 1 0 0 1 1 0 0 1 0 0 0 0 0 0 1 1 1 1 0 0 0 0 0]\n",
      " [0 0 1 0 0 0 1 0 1 1 1 0 1 1 0 0 0 0 1 0 0 0 0 0]\n",
      " [0 0 0 1 0 0 0 0 0 0 0 0 1 0 0 1 0 0 1 1 1 1 1 0]\n",
      " [0 0 0 0 0 0 1 1 0 1 0 0 0 0 1 1 0 1 0 1 0 0 0 1]\n",
      " [1 0 1 0 0 1 0 0 1 0 0 0 0 0 1 0 0 0 0 0 1 0 1 1]\n",
      " [0 0 0 1 0 0 0 0 0 0 1 1 0 1 1 0 1 1 0 0 0 0 1 0]]\n"
     ]
    }
   ],
   "source": [
    "codewords = np.loadtxt(\"clique_of_9_words.txt\", dtype=np.int)\n",
    "print(codewords)"
   ]
  },
  {
   "cell_type": "code",
   "execution_count": 92,
   "metadata": {
    "collapsed": false
   },
   "outputs": [],
   "source": [
    "def encode(filename=\"Van_Gohg.jpg\"):\n",
    "    file = open(filename, \"rb\")\n",
    "    plainimage = file.read()\n",
    "    key = get_random_bytes(16)\n",
    "    cipher = AES.new(key, AES.MODE_EAX)\n",
    "    #nonce = cipher.nonce\n",
    "    cipherimage, tag = cipher.encrypt_and_digest(plainimage)\n",
    "    file.close()\n",
    "    return (key, cipherimage)"
   ]
  },
  {
   "cell_type": "code",
   "execution_count": 93,
   "metadata": {
    "collapsed": false
   },
   "outputs": [],
   "source": [
    "def split_key(key):\n",
    "    shares = Shamir.split(8, 24, key)\n",
    "    return shares"
   ]
  },
  {
   "cell_type": "code",
   "execution_count": 94,
   "metadata": {
    "collapsed": true
   },
   "outputs": [],
   "source": [
    "def combine_key(shares):\n",
    "    key = Shamir.combine(shares)\n",
    "    return key"
   ]
  },
  {
   "cell_type": "code",
   "execution_count": 115,
   "metadata": {
    "collapsed": false
   },
   "outputs": [],
   "source": [
    "def encode_shares(shares):\n",
    "    encoded_shares = []\n",
    "    keys_for_shares = []\n",
    "    for i in np.arange(0, len(shares)):\n",
    "        key = get_random_bytes(16)\n",
    "        cipher = AES.new(key, AES.MODE_EAX)\n",
    "        #nonce = cipher.nonce\n",
    "        ciphershare, tag = cipher.encrypt_and_digest(shares[i][1])\n",
    "        encoded_shares.append((shares[i][0], ciphershare))\n",
    "        keys_for_shares.append((i+1, key))\n",
    "    return (encoded_shares, keys_for_shares)"
   ]
  },
  {
   "cell_type": "code",
   "execution_count": 125,
   "metadata": {
    "collapsed": false
   },
   "outputs": [],
   "source": [
    "def get_family_of_sets(codewords, keys_for_shares):\n",
    "    family_of_sets = []\n",
    "    for i in np.arange(0, codewords.shape[0], 1):\n",
    "        set = []\n",
    "        for j in np.arange(0, codewords.shape[1], 1):\n",
    "            if(codewords[i][j]==1):\n",
    "                set.append(keys_for_shares[j])\n",
    "        family_of_sets.append(set)\n",
    "    return family_of_sets"
   ]
  },
  {
   "cell_type": "code",
   "execution_count": null,
   "metadata": {
    "collapsed": true
   },
   "outputs": [],
   "source": [
    "def decode_shares(encoded_shares, keys_for_some_shares):\n",
    "    shares = []\n",
    "    for i in np.arange(0, len(keys_for_some_shares), 1):\n",
    "        key = keys_for_shares[i][1]\n",
    "        encoded_share = 0\n",
    "        for j in np.arange(0, len(encoded_shares), 1):\n",
    "            if(j+1 == keys_for_some_shares[i][0]):\n",
    "                encoded_share = encoded_shares[j][1]\n",
    "        \n",
    "        cipher = AES.new(key, AES.MODE_EAX, nonce=nonce)\n",
    "        decoded_share = cipher.decrypt(encoded_share)\n",
    "        try:\n",
    "            cipher.verify(tag)\n",
    "            print(\"The message is authentic:\", plaintext)\n",
    "        except ValueError:\n",
    "            print(\"Key incorrect or message corrupted\")\n",
    "        shares.append((keys_for_some_shares[i][0], decoded_share))"
   ]
  },
  {
   "cell_type": "code",
   "execution_count": 126,
   "metadata": {
    "collapsed": false
   },
   "outputs": [
    {
     "name": "stdout",
     "output_type": "stream",
     "text": [
      "b'\\xa4\\xdb\\x9cW\\x87\\xbaI0\\xa5\\xab\\x8a\\x9dm\\x0bfi'\n"
     ]
    }
   ],
   "source": [
    "(key, cipherimage) = encode()\n",
    "print(key)"
   ]
  },
  {
   "cell_type": "code",
   "execution_count": 127,
   "metadata": {
    "collapsed": false
   },
   "outputs": [
    {
     "name": "stdout",
     "output_type": "stream",
     "text": [
      "[(1, b'\\x91J\\xeb\\x88.\\xc3\\xd7\\x91\\x00\\xabYP\\xb3=\\xfb4'), (2, b'!N\\xbc\\xc8\\xff\"y\\x82\\xd9;[T+\\'\\xa6\\xd5'), (3, b'\\xa6W\\xc43\\x1f\\n\\x12m0\\x89\\xbb+\\x9c\\xecSu'), (4, b'\\xa3\\xeb\\x08\\xa6\\xa5\\x17[W\\x8d\\x1eM\\x9b\\x11}o~'), (5, b'\\xec\\x0b\\xd7\\xd0\\x9c^\\x90\\xf0rE\\xc7!Q\\xe6\\xfa\\x88'), (6, b'z\\xb52\\xda\\x82\\tV\\xec;\\x84\\x877\\xd5\\xf3\\x9f '), (7, b'+\\xc1\\x85\\xd3\\xb9*\\x10k;\\x97\\x11\\x00\\xc0/\\x9c\\x80'), (8, b'asCD\\x90Q\\xf2\\xee\\x1d\\xda\\x03\\x07L\\xa7\\x05\\x0e'), (9, b'\\x0e\\n\\x00\\x18\\xa7\\xb4y\\xa3\\xf6\\x82)\\xba\\xb2AX\\xa5'), (10, b'C\\x85\\x99\\xe8\\x87{\\x0e\\xed\\x15\\x1dTI\\xd5|\\xd5\\x07'), (11, b'\\xb7\\xfb\\xf3\\xff\\xf0\\xe3\\xe7b%I\\\\7\\x02V\\t\\xa4'), (12, b'\\xe6b\\xe0L\\x03\\xff\\xc4\\x14\\xe2$\\xc5\\xe8\\xdd\\x95r*'), (13, b'\\x17\\x1c\\x0c\\xd8T@\\xcfPM8\\xe7\\xf3\\xe1\\xe9\\xb0\\xf3'), (14, b'\\x96l\\x8d\\xa6\\xd6\\xef2G\\xdd\\xfe\\x16]\\x9b\\x93\\xed\\xe3'), (15, b'P\\t/\"\\x8a\\x16#\\xaf\\x1a\\x149\\xba\\xb2\\x99P\\x99'), (16, b':o\\xc1\\xef{\\x859\\xf5\\x95\\x1c#\\xc3\\x8cV\\x87\\xd8'), (17, b'\\xed\\x05\\x9f\\x9f\\xf03\\xect\\xcb*\\xe2\\xea\\x1e\\xdej\\x85'), (18, b'\\x9d\\xfc\\xc6/\\x8e\\x93\\xb8\\x86\\xb0O\\xdd\\xdae\\xe3\\xeav'), (19, b'q\\xb8#\\x88\\x18<D\\xa4\\xb6\\xb1\\x0e\\xa3A\\x1b\\x12o'), (20, b'\\xed\\xcb\\xdf\\xc03\\x94\\xa2~\\xd6w\\x17\\xecL\\x90\\x97p'), (21, b'P\\xb7\\xe1\\xe7\\x92}\\xbbs\\x8a\\xbb\\xe9\\xde\\x16\\x02\\x06\\xc6'), (22, b'\\xd1\\x00\\xf5g\\x0fO\\xd8O\\xe6&J0?s:\\xd0'), (23, b'\\xfbN\\x17\\xcc\\xf8\\x84\\x90\\x8fQ\\xd8\\x89m\\xef+@\\x89'), (24, b'\\xc7p\\xf2~u\\xea\\x10\\x04><\\xcc\\x96\\xc8\\r\\x8e\\xd4')]\n"
     ]
    }
   ],
   "source": [
    "shares = split_key(key)\n",
    "print(shares)"
   ]
  },
  {
   "cell_type": "code",
   "execution_count": 128,
   "metadata": {
    "collapsed": false
   },
   "outputs": [
    {
     "name": "stdout",
     "output_type": "stream",
     "text": [
      "[(1, b'x\\xd1#\\x90\\x08\\xc7\\xa5\\x14\\xb8\\xb3\\x0eQl2F\\x96'), (2, b'f\\x07,s\\xe5\\xa1\\xd2\\x9d>\\x8c`|p\\xd0\\xa7\\x85'), (3, b'sk\\x17\\x85R\\x0f\\x1e\\xfa3\\xf6(Lun\\xcdq'), (4, b'w\\xabg\\xbee\\x8cB\\x16\\xe7\\x84w\\r:\\x1e[o'), (5, b'\\xbbe\\xd7/_\\x9c\\xed9\\xae[\\x93\\xa0[\\x08\\x8e\\x0c'), (6, b'\\xaa0]C\\xcfA\\xae\\xcfO\\x18\\xb3\\x01\\t\\xd6\\x9f\\x08'), (7, b'J\\xe5\\xf1\\x92P\\xfc\\xbe2\\xe0\\xa1\\x0c\\xb7\\xe4\\xb9\\xc5\\xa1'), (8, b'\\x9aU\\x99.\\xf4\\xf8\\x17X\\xa3P\\xadA\\xdd\\xc0\\xb9\\x8e'), (9, b'\\xf2\\x19\\xe9\\xa6Y\\xc3\\xcdFh\\xc2\\xbe\\r\\xd5Lv\\xb2'), (10, b'\\x1d\\x16\\x9d\\xe8\\xbf1\\x94[\\x9cdh\\xa43\\xae[\\x02'), (11, b'1\\xdd\\x9b#Whb\\xe2G\\xfcr\"~\\x1c\\xed\\xb8'), (12, b'\\xb32\\xaa\\xbds\\x94\\x1e\\x14V\\xfe\\xf1\\xeb\\xf1Oi\\xb6'), (13, b'L\\x88\\xbc\\xd5\\xa5\\x05\\xd5k\\xd3\\xbaZ_\\x90x\\x18\\x19'), (14, b'\\xc0i|Hz\\xb7\\xb7\\x0cb\\xc2\\x8b\\x8d\\x81\\xd4\\x92\\xef'), (15, b'\\x03\\x81\\xbd\\xa3\\xbf\\x95\\xa4\\x19%\\xd4 p%:{\\x80'), (16, b'2]]\\x05\\x13\\xb7\\xf63\\xd6]\\xae\\x14\\x85\\x1bj\\xc5'), (17, b'\\xf8\\x81\\xc0\\x07\\xc6\\xc5{b\\xd3z\\xb4+9X4,'), (18, b'\\xc34\\x87\\xdf\"\\xc1\\xedd\\xa5Q\\x1d\\xa7\\x93c\\x8e\\x9b'), (19, b'\\x92q\\xe7p\\xce\\xe2-\\x83\\xc0\"\\xda\\xd4\\x7f-B{'), (20, b'&g~\\x9b\\xa0\\xbd\\x94\\x1c\\x83.\\xcf\\x07\\xb4\"\\x87V'), (21, b'\\x87\\xe2.}\\xdf\\xda\\xd7H\\xed\\xa5\\xf9\\xef\\xdf\\t\\xa7\\xa8'), (22, b'\\xc5\\xeb\\xbc\\x1f\\xbc(\\xbe+\\xb4\\xe2\\x01\\x1fI\\xed\\xc3x'), (23, b'\\xcci\\x9b\\xc3.\\x84d`\\x9a\\x10\\xae\\x0b$`2*'), (24, b'\\x0c\\xc7:\\xbc\\x95\\x08\\xe5+\\xaf0\\xd0\\x96\\xbcs\\x03\\xd2')]\n",
      "\n",
      "[(1, b'\\x8d:\\xb0\\x87\\xf0\\xeb\\xdd\\xe8\\\\\\x13\\xa7\\x88\\xe9\\x9f\\x10\\xfe'), (2, b'E\\x0eS\\xe9\\xbe\\xded\\xef\\x06\\xbc\\x16\\xa5\"\\x10;\\xd0'), (3, b'v\\xd1[\\x8f\\xda)\\xe0\\xea\\xbd\\xed\\xee3\\xe20\\xbb\\x9e'), (4, b'd\\xbbU\\xb6\\xac\\xb3^\\x15\\xf8\\x1c\"\\x10\\x0c\\x15\\x11\\xf1'), (5, b'\\x07\\xff\\xaf\\x942;\\x886\\x9f\\xe7\\x99\\x93&r\\x00\\x81'), (6, b'*\\xd78&\\x80c\\x88\\x0e\\xa6\\xd2\\xcb&\\xcf;\\xfc_'), (7, b\"\\xa5\\x05\\x8f\\xebj\\xa0z\\xfe\\xbb'\\x89\\x03e=x\\xc8\"), (8, b'd\\x08\\x96\\xd5\\x1f\\x9e\\x17s\\x88\\x92\\xfaM7L\\x0c\\r'), (9, b\"\\xa8<\\xab\\xaal+\\xae\\x11'\\xdf'16\\x19\\xd38\"), (10, b'\\xec!1]L\\x97\\xa4\\x02\\xa5\\xedH\\xd6T\\xaf\\xcc\\x06'), (11, b'\\x16\\xda\\x87\\xa6\\xb6f{\\\\\\xae\\xc7`F\\xcc!>\\\\'), (12, b'ko\\xeaT\\xb0\\xf1\\xefEd\\xa0\\xb3q\\xe36\\x9a\\x9d'), (13, b'\\xb1p\\xd0\\xc0-(\\xa7\\x93m\\xdf^U\\x12\\xd6\\\\t'), (14, b'\\x0c\\xee\\xbdf\\x9a\\ra;^\\xd5\\xfc\\xf4K\\xc8$}'), (15, b'h\\xaaBtL-\\x88w\\x87v\\x93c\\xfc|\\xe4\\xd7'), (16, b'Q\\xb0\\xa5\\xb2\\xc5\\xc5\\xb3\\xe7\\xee<#\\x9a\\x982\\x92\\xf7'), (17, b'p\\x9a4\\xcd\\x08~\\x8f\\x17\\xe3=\\xe9\\x964\\xe5\"\\xa9'), (18, b'\\xd5\\xb5XKb\\x00ml\\xfd\\x11\\xfa\\xaa\\xed\\xbeA|'), (19, b'\\x02@\\xd3\\x15\\xaa\\xc03N\\x01\\x0f\\xa9\\xf3s\\xcc\\x81\\xe7'), (20, b'\\x1c\\x97q\\x91n\\xf3\\xd5\"\\xe9\\xde\\xa2\\n\\t\\xc5K\\xd6'), (21, b'\\x04^\\xc9\\x90G\\x13\\xafhtI&e\\xb6~\\xe9)'), (22, b'\\xaf\\x1b\\xfd\\xa3\\x85wG]$5TJ\\xb8\\xdf\\xd7\\x03'), (23, b'\\x84\\xb8\\x03\\x11\\xad\\xc9\\xb5\\x18\\x0f\\x9d\\x014[\\xb3s\\xc6'), (24, b'\\x8a}\\xba\\xa0R|\\xfd\\xe9\\x88;\\x8f\\xf8f\\xde:\\xe6')]\n"
     ]
    }
   ],
   "source": [
    "(encoded_shares, keys_for_shares) = encode_shares(shares)\n",
    "print(encoded_shares)\n",
    "print()\n",
    "print(keys_for_shares)"
   ]
  },
  {
   "cell_type": "code",
   "execution_count": 136,
   "metadata": {
    "collapsed": false
   },
   "outputs": [
    {
     "name": "stdout",
     "output_type": "stream",
     "text": [
      "[[(1, b'\\x8d:\\xb0\\x87\\xf0\\xeb\\xdd\\xe8\\\\\\x13\\xa7\\x88\\xe9\\x9f\\x10\\xfe'), (2, b'E\\x0eS\\xe9\\xbe\\xded\\xef\\x06\\xbc\\x16\\xa5\"\\x10;\\xd0'), (3, b'v\\xd1[\\x8f\\xda)\\xe0\\xea\\xbd\\xed\\xee3\\xe20\\xbb\\x9e'), (4, b'd\\xbbU\\xb6\\xac\\xb3^\\x15\\xf8\\x1c\"\\x10\\x0c\\x15\\x11\\xf1'), (5, b'\\x07\\xff\\xaf\\x942;\\x886\\x9f\\xe7\\x99\\x93&r\\x00\\x81'), (8, b'd\\x08\\x96\\xd5\\x1f\\x9e\\x17s\\x88\\x92\\xfaM7L\\x0c\\r'), (11, b'\\x16\\xda\\x87\\xa6\\xb6f{\\\\\\xae\\xc7`F\\xcc!>\\\\'), (20, b'\\x1c\\x97q\\x91n\\xf3\\xd5\"\\xe9\\xde\\xa2\\n\\t\\xc5K\\xd6')], [(5, b'\\x07\\xff\\xaf\\x942;\\x886\\x9f\\xe7\\x99\\x93&r\\x00\\x81'), (6, b'*\\xd78&\\x80c\\x88\\x0e\\xa6\\xd2\\xcb&\\xcf;\\xfc_'), (8, b'd\\x08\\x96\\xd5\\x1f\\x9e\\x17s\\x88\\x92\\xfaM7L\\x0c\\r'), (10, b'\\xec!1]L\\x97\\xa4\\x02\\xa5\\xedH\\xd6T\\xaf\\xcc\\x06'), (12, b'ko\\xeaT\\xb0\\xf1\\xefEd\\xa0\\xb3q\\xe36\\x9a\\x9d'), (14, b'\\x0c\\xee\\xbdf\\x9a\\ra;^\\xd5\\xfc\\xf4K\\xc8$}'), (21, b'\\x04^\\xc9\\x90G\\x13\\xafhtI&e\\xb6~\\xe9)'), (22, b'\\xaf\\x1b\\xfd\\xa3\\x85wG]$5TJ\\xb8\\xdf\\xd7\\x03')], [(1, b'\\x8d:\\xb0\\x87\\xf0\\xeb\\xdd\\xe8\\\\\\x13\\xa7\\x88\\xe9\\x9f\\x10\\xfe'), (2, b'E\\x0eS\\xe9\\xbe\\xded\\xef\\x06\\xbc\\x16\\xa5\"\\x10;\\xd0'), (7, b\"\\xa5\\x05\\x8f\\xebj\\xa0z\\xfe\\xbb'\\x89\\x03e=x\\xc8\"), (12, b'ko\\xeaT\\xb0\\xf1\\xefEd\\xa0\\xb3q\\xe36\\x9a\\x9d'), (13, b'\\xb1p\\xd0\\xc0-(\\xa7\\x93m\\xdf^U\\x12\\xd6\\\\t'), (17, b'p\\x9a4\\xcd\\x08~\\x8f\\x17\\xe3=\\xe9\\x964\\xe5\"\\xa9'), (22, b'\\xaf\\x1b\\xfd\\xa3\\x85wG]$5TJ\\xb8\\xdf\\xd7\\x03'), (24, b'\\x8a}\\xba\\xa0R|\\xfd\\xe9\\x88;\\x8f\\xf8f\\xde:\\xe6')], [(2, b'E\\x0eS\\xe9\\xbe\\xded\\xef\\x06\\xbc\\x16\\xa5\"\\x10;\\xd0'), (5, b'\\x07\\xff\\xaf\\x942;\\x886\\x9f\\xe7\\x99\\x93&r\\x00\\x81'), (6, b'*\\xd78&\\x80c\\x88\\x0e\\xa6\\xd2\\xcb&\\xcf;\\xfc_'), (9, b\"\\xa8<\\xab\\xaal+\\xae\\x11'\\xdf'16\\x19\\xd38\"), (16, b'Q\\xb0\\xa5\\xb2\\xc5\\xc5\\xb3\\xe7\\xee<#\\x9a\\x982\\x92\\xf7'), (17, b'p\\x9a4\\xcd\\x08~\\x8f\\x17\\xe3=\\xe9\\x964\\xe5\"\\xa9'), (18, b'\\xd5\\xb5XKb\\x00ml\\xfd\\x11\\xfa\\xaa\\xed\\xbeA|'), (19, b'\\x02@\\xd3\\x15\\xaa\\xc03N\\x01\\x0f\\xa9\\xf3s\\xcc\\x81\\xe7')], [(3, b'v\\xd1[\\x8f\\xda)\\xe0\\xea\\xbd\\xed\\xee3\\xe20\\xbb\\x9e'), (7, b\"\\xa5\\x05\\x8f\\xebj\\xa0z\\xfe\\xbb'\\x89\\x03e=x\\xc8\"), (9, b\"\\xa8<\\xab\\xaal+\\xae\\x11'\\xdf'16\\x19\\xd38\"), (10, b'\\xec!1]L\\x97\\xa4\\x02\\xa5\\xedH\\xd6T\\xaf\\xcc\\x06'), (11, b'\\x16\\xda\\x87\\xa6\\xb6f{\\\\\\xae\\xc7`F\\xcc!>\\\\'), (13, b'\\xb1p\\xd0\\xc0-(\\xa7\\x93m\\xdf^U\\x12\\xd6\\\\t'), (14, b'\\x0c\\xee\\xbdf\\x9a\\ra;^\\xd5\\xfc\\xf4K\\xc8$}'), (19, b'\\x02@\\xd3\\x15\\xaa\\xc03N\\x01\\x0f\\xa9\\xf3s\\xcc\\x81\\xe7')], [(4, b'd\\xbbU\\xb6\\xac\\xb3^\\x15\\xf8\\x1c\"\\x10\\x0c\\x15\\x11\\xf1'), (13, b'\\xb1p\\xd0\\xc0-(\\xa7\\x93m\\xdf^U\\x12\\xd6\\\\t'), (16, b'Q\\xb0\\xa5\\xb2\\xc5\\xc5\\xb3\\xe7\\xee<#\\x9a\\x982\\x92\\xf7'), (19, b'\\x02@\\xd3\\x15\\xaa\\xc03N\\x01\\x0f\\xa9\\xf3s\\xcc\\x81\\xe7'), (20, b'\\x1c\\x97q\\x91n\\xf3\\xd5\"\\xe9\\xde\\xa2\\n\\t\\xc5K\\xd6'), (21, b'\\x04^\\xc9\\x90G\\x13\\xafhtI&e\\xb6~\\xe9)'), (22, b'\\xaf\\x1b\\xfd\\xa3\\x85wG]$5TJ\\xb8\\xdf\\xd7\\x03'), (23, b'\\x84\\xb8\\x03\\x11\\xad\\xc9\\xb5\\x18\\x0f\\x9d\\x014[\\xb3s\\xc6')], [(7, b\"\\xa5\\x05\\x8f\\xebj\\xa0z\\xfe\\xbb'\\x89\\x03e=x\\xc8\"), (8, b'd\\x08\\x96\\xd5\\x1f\\x9e\\x17s\\x88\\x92\\xfaM7L\\x0c\\r'), (10, b'\\xec!1]L\\x97\\xa4\\x02\\xa5\\xedH\\xd6T\\xaf\\xcc\\x06'), (15, b'h\\xaaBtL-\\x88w\\x87v\\x93c\\xfc|\\xe4\\xd7'), (16, b'Q\\xb0\\xa5\\xb2\\xc5\\xc5\\xb3\\xe7\\xee<#\\x9a\\x982\\x92\\xf7'), (18, b'\\xd5\\xb5XKb\\x00ml\\xfd\\x11\\xfa\\xaa\\xed\\xbeA|'), (20, b'\\x1c\\x97q\\x91n\\xf3\\xd5\"\\xe9\\xde\\xa2\\n\\t\\xc5K\\xd6'), (24, b'\\x8a}\\xba\\xa0R|\\xfd\\xe9\\x88;\\x8f\\xf8f\\xde:\\xe6')], [(1, b'\\x8d:\\xb0\\x87\\xf0\\xeb\\xdd\\xe8\\\\\\x13\\xa7\\x88\\xe9\\x9f\\x10\\xfe'), (3, b'v\\xd1[\\x8f\\xda)\\xe0\\xea\\xbd\\xed\\xee3\\xe20\\xbb\\x9e'), (6, b'*\\xd78&\\x80c\\x88\\x0e\\xa6\\xd2\\xcb&\\xcf;\\xfc_'), (9, b\"\\xa8<\\xab\\xaal+\\xae\\x11'\\xdf'16\\x19\\xd38\"), (15, b'h\\xaaBtL-\\x88w\\x87v\\x93c\\xfc|\\xe4\\xd7'), (21, b'\\x04^\\xc9\\x90G\\x13\\xafhtI&e\\xb6~\\xe9)'), (23, b'\\x84\\xb8\\x03\\x11\\xad\\xc9\\xb5\\x18\\x0f\\x9d\\x014[\\xb3s\\xc6'), (24, b'\\x8a}\\xba\\xa0R|\\xfd\\xe9\\x88;\\x8f\\xf8f\\xde:\\xe6')], [(4, b'd\\xbbU\\xb6\\xac\\xb3^\\x15\\xf8\\x1c\"\\x10\\x0c\\x15\\x11\\xf1'), (11, b'\\x16\\xda\\x87\\xa6\\xb6f{\\\\\\xae\\xc7`F\\xcc!>\\\\'), (12, b'ko\\xeaT\\xb0\\xf1\\xefEd\\xa0\\xb3q\\xe36\\x9a\\x9d'), (14, b'\\x0c\\xee\\xbdf\\x9a\\ra;^\\xd5\\xfc\\xf4K\\xc8$}'), (15, b'h\\xaaBtL-\\x88w\\x87v\\x93c\\xfc|\\xe4\\xd7'), (17, b'p\\x9a4\\xcd\\x08~\\x8f\\x17\\xe3=\\xe9\\x964\\xe5\"\\xa9'), (18, b'\\xd5\\xb5XKb\\x00ml\\xfd\\x11\\xfa\\xaa\\xed\\xbeA|'), (23, b'\\x84\\xb8\\x03\\x11\\xad\\xc9\\xb5\\x18\\x0f\\x9d\\x014[\\xb3s\\xc6')]]\n"
     ]
    }
   ],
   "source": [
    "family_of_sets = get_family_of_sets(codewords, keys_for_shares)\n",
    "print(family_of_sets)"
   ]
  },
  {
   "cell_type": "code",
   "execution_count": null,
   "metadata": {
    "collapsed": false
   },
   "outputs": [],
   "source": []
  },
  {
   "cell_type": "code",
   "execution_count": null,
   "metadata": {
    "collapsed": true
   },
   "outputs": [],
   "source": []
  }
 ],
 "metadata": {
  "kernelspec": {
   "display_name": "Python 3",
   "language": "python",
   "name": "python3"
  },
  "language_info": {
   "codemirror_mode": {
    "name": "ipython",
    "version": 3
   },
   "file_extension": ".py",
   "mimetype": "text/x-python",
   "name": "python",
   "nbconvert_exporter": "python",
   "pygments_lexer": "ipython3",
   "version": "3.6.0"
  }
 },
 "nbformat": 4,
 "nbformat_minor": 2
}
